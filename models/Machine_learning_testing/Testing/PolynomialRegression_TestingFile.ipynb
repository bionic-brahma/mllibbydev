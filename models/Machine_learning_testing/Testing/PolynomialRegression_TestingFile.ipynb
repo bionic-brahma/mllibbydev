{
 "cells": [
  {
   "cell_type": "code",
   "execution_count": 6,
   "metadata": {},
   "outputs": [],
   "source": [
    "#######################################################################################\n",
    "## Polynomial regression is progress. remaining work: applying the degree parameter to the model.#\n",
    "##                                                                                    #\n",
    "## Work by Devendra Kumar for Lytte AI Inc.                                           #\n",
    "#######################################################################################\n",
    "\n",
    "# begining of imports                                               ###\n",
    "                                                                    ###\n",
    "import numpy as np                                                  ###\n",
    "import matplotlib.pyplot as plt                                     ###\n",
    "                                                                    ###\n",
    "# End of imports                                                    ###\n",
    "\n",
    "%matplotlib inline\n"
   ]
  },
  {
   "cell_type": "code",
   "execution_count": 3,
   "metadata": {},
   "outputs": [],
   "source": [
    "###########################################################################\n",
    "# Testing on some non-linear data set having only one independent variable.\n",
    "###########################################################################\n",
    "#format of data set:\n",
    "##          array([   [record1],\n",
    "  #                   [record2],\n",
    "  #                   [record3],\n",
    "  #                   [.......]  ])\n",
    "##\n",
    "###########################################################################\n",
    "\n",
    "# Demo Data set x\n",
    "x= np.array([[1,2],[4,18],[3,9],[10,90],[7,15],[8,18],[13,30],[1,3],[4,16],[1,3],[4,18.5],[5,10],[6,13],[1.8,6],[10,99],[9,79],[8.6,65],[13,150],[1,6],[4,11]])\n"
   ]
  },
  {
   "cell_type": "code",
   "execution_count": 4,
   "metadata": {},
   "outputs": [
    {
     "data": {
      "text/plain": [
       "array([[  1. ,   2. ],\n",
       "       [  4. ,  18. ],\n",
       "       [  3. ,   9. ],\n",
       "       [ 10. ,  90. ],\n",
       "       [  7. ,  15. ],\n",
       "       [  8. ,  18. ],\n",
       "       [ 13. ,  30. ],\n",
       "       [  1. ,   3. ],\n",
       "       [  4. ,  16. ],\n",
       "       [  1. ,   3. ],\n",
       "       [  4. ,  18.5],\n",
       "       [  5. ,  10. ],\n",
       "       [  6. ,  13. ],\n",
       "       [  1.8,   6. ],\n",
       "       [ 10. ,  99. ],\n",
       "       [  9. ,  79. ],\n",
       "       [  8.6,  65. ],\n",
       "       [ 13. , 150. ],\n",
       "       [  1. ,   6. ],\n",
       "       [  4. ,  11. ]])"
      ]
     },
     "execution_count": 4,
     "metadata": {},
     "output_type": "execute_result"
    }
   ],
   "source": [
    "x"
   ]
  },
  {
   "cell_type": "code",
   "execution_count": 5,
   "metadata": {},
   "outputs": [
    {
     "name": "stdout",
     "output_type": "stream",
     "text": [
      "[[ 1. ]\n",
      " [ 4. ]\n",
      " [ 3. ]\n",
      " [10. ]\n",
      " [ 7. ]\n",
      " [ 8. ]\n",
      " [13. ]\n",
      " [ 1. ]\n",
      " [ 4. ]\n",
      " [ 1. ]\n",
      " [ 4. ]\n",
      " [ 5. ]\n",
      " [ 6. ]\n",
      " [ 1.8]\n",
      " [10. ]\n",
      " [ 9. ]\n",
      " [ 8.6]\n",
      " [13. ]\n",
      " [ 1. ]\n",
      " [ 4. ]]\n"
     ]
    }
   ],
   "source": [
    "input= np.array([[x]  for x in np.array(x[:,0])])\n",
    "print(np.array(input))\n",
    "output= np.array([[x]  for x in np.array(x[:,1])])"
   ]
  },
  {
   "cell_type": "code",
   "execution_count": 7,
   "metadata": {},
   "outputs": [
    {
     "data": {
      "text/plain": [
       "<matplotlib.collections.PathCollection at 0x7f75a0179790>"
      ]
     },
     "execution_count": 7,
     "metadata": {},
     "output_type": "execute_result"
    },
    {
     "data": {
      "image/png": "[encoded data removed]",
      "text/plain": [
       "<Figure size 432x288 with 1 Axes>"
      ]
     },
     "metadata": {
      "needs_background": "light"
     },
     "output_type": "display_data"
    }
   ],
   "source": [
    "plt.scatter(input,output)"
   ]
  },
  {
   "cell_type": "code",
   "execution_count": 24,
   "metadata": {},
   "outputs": [],
   "source": [
    "class regression:\n",
    "    \n",
    "    \n",
    "    def __init__(self, iteration=10, learning_rate=0.01, degree=1, print_msg = False):\n",
    "        \n",
    "        self.iterat=iteration\n",
    "        self.lr=learning_rate\n",
    "        self.degree=degree\n",
    "        self.weights=None\n",
    "        self.bias=None\n",
    "        self.print_msg=print_msg\n",
    "\n",
    "        \n",
    "#################################################################\n",
    "  ##  Working on the polynomial regression\n",
    "#################################################################\n",
    "    '''\n",
    "    def factorial(self,n):\n",
    "        if n<=1:\n",
    "          return 1\n",
    "        else:\n",
    "          return n*self.factorial(n-1)\n",
    "\n",
    "    def combination(self,n,r):\n",
    "        return self.factorial(n)/(self.factorial(r)*self.factorial(n-r) )   \n",
    "    '''\n",
    "##################################################################\n",
    "  \n",
    "    def fit(self, input_X, output_Y):\n",
    "        nrecords, nfeatures = input_X.shape\n",
    "        \n",
    "        #num_non_linear_features= self.combination(self.degree+nfeatures-1,nfeatures-1)  #m-1+nCm-1\n",
    "\n",
    "        if self.print_msg:\n",
    "            print(\"records= \", nrecords, \"  features= \", nfeatures)\n",
    "        self.weights= np.zeros(nfeatures)\n",
    "\n",
    "        self.bias=0.0\n",
    "        \n",
    "        if self.print_msg:\n",
    "            fig= plt.figure()\n",
    "            f= fig.add_subplot(111)\n",
    "            f.scatter(input,output)\n",
    "\n",
    "        for it in range(self.iterat):\n",
    "            model= np.dot(input_X, self.weights) + self.bias\n",
    "            loss= (1/nrecords)* np.sum((model- output_Y)**2)\n",
    "            self.weights= self.weights-(1/nrecords)*self.lr*2*np.dot(np.transpose(input_X),(model-output_Y))\n",
    "            self.bias-= (1/nrecords)*self.lr*2*np.sum(model-output_Y) \n",
    "            \n",
    "            if self.print_msg:\n",
    "                print(\"-------> iteration number: \",it,\"  Loss: \",loss)\n",
    "                print(\"-------> weights: \",self.weights)\n",
    "\n",
    "            y=self.predict(input)\n",
    "            \n",
    "            if self.print_msg:\n",
    "                if it%40==0 or it== self.iterat-1:\n",
    "                    f.plot(input,y,color=\"red\", alpha=self.iterat/(it+1))\n",
    "\n",
    "    def predict(self, input_X):\n",
    "        return (np.dot(input_X ,self.weights) + self.bias)[:,0]"
   ]
  },
  {
   "cell_type": "code",
   "execution_count": 28,
   "metadata": {},
   "outputs": [],
   "source": [
    "model= regression(iteration=100)\n",
    "model.fit(np.array(input),np.array(output))"
   ]
  },
  {
   "cell_type": "code",
   "execution_count": 29,
   "metadata": {},
   "outputs": [],
   "source": [
    "\n",
    "y=model.predict(input)"
   ]
  },
  {
   "cell_type": "code",
   "execution_count": 30,
   "metadata": {},
   "outputs": [
    {
     "name": "stdout",
     "output_type": "stream",
     "text": [
      "(20,) (20, 1)\n"
     ]
    },
    {
     "data": {
      "text/plain": [
       "[<matplotlib.lines.Line2D at 0x7f75789f8ed0>]"
      ]
     },
     "execution_count": 30,
     "metadata": {},
     "output_type": "execute_result"
    },
    {
     "data": {
      "image/png": "[encoded data removed]",
      "text/plain": [
       "<Figure size 432x288 with 1 Axes>"
      ]
     },
     "metadata": {
      "needs_background": "light"
     },
     "output_type": "display_data"
    }
   ],
   "source": [
    "plt.scatter(input,output)\n",
    "print(y.shape, input.shape) \n",
    "plt.scatter(input,y,color=\"red\")\n",
    "plt.plot(input,y,color=\"green\")"
   ]
  },
  {
   "cell_type": "code",
   "execution_count": 16,
   "metadata": {},
   "outputs": [
    {
     "data": {
      "text/plain": [
       "array([ 2.60003716, 10.79232229, 18.98460743, 35.3691777 , 43.56146283])"
      ]
     },
     "execution_count": 16,
     "metadata": {},
     "output_type": "execute_result"
    }
   ],
   "source": [
    "\n",
    "model.predict([[2],[3],[4],[6],[7]])"
   ]
  },
  {
   "cell_type": "code",
   "execution_count": null,
   "metadata": {},
   "outputs": [],
   "source": []
  }
 ],
 "metadata": {
  "kernelspec": {
   "display_name": "Python 3",
   "language": "python",
   "name": "python3"
  },
  "language_info": {
   "codemirror_mode": {
    "name": "ipython",
    "version": 3
   },
   "file_extension": ".py",
   "mimetype": "text/x-python",
   "name": "python",
   "nbconvert_exporter": "python",
   "pygments_lexer": "ipython3",
   "version": "3.7.4"
  }
 },
 "nbformat": 4,
 "nbformat_minor": 2
}
